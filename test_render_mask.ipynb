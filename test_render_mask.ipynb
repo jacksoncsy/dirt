{
 "cells": [
  {
   "cell_type": "code",
   "execution_count": 1,
   "metadata": {},
   "outputs": [],
   "source": [
    "import tensorflow as tf\n",
    "import dirt\n",
    "import cv2\n",
    "import menpo3d.io as m3io\n",
    "import pickle\n",
    "import numpy as np\n",
    "\n",
    "from scipy.io import loadmat\n",
    "from menpo.image import Image\n",
    "from menpo.shape import PointCloud, TriMesh\n",
    "from copy import deepcopy\n",
    "from os.path import join\n",
    "\n",
    "\n",
    "def ProjectShape(vertex, fR, T, roi_bbox):\n",
    "    # function in pytorch 3DDFA\n",
    "    STD_SIZE = 120\n",
    "    \n",
    "    # transform to image coordinate scale\n",
    "    vertex = fR.dot(vertex) + T\n",
    "    vertex[1,:] = STD_SIZE + 1 - vertex[1,:]\n",
    "    \n",
    "    sx, sy, ex, ey = roi_bbox\n",
    "    scale_x = (ex - sx) / STD_SIZE\n",
    "    scale_y = (ey - sy) / STD_SIZE\n",
    "    vertex[0, :] = vertex[0, :] * scale_x + sx\n",
    "    vertex[1, :] = vertex[1, :] * scale_y + sy\n",
    "\n",
    "    s = (scale_x + scale_y) / 2\n",
    "    vertex[2, :] *= s\n",
    "    \n",
    "    return vertex"
   ]
  },
  {
   "cell_type": "code",
   "execution_count": 2,
   "metadata": {},
   "outputs": [],
   "source": [
    "template_path = '/home/SERILOCAL/shiyang.c/Projects/3D/face_reconstruction_GCN/coma/data/face_parts_basel09'\n",
    "template_mesh = m3io.import_mesh(join(template_path, 'basel09_mean.obj'))\n",
    "\n",
    "with open(join(template_path, 'face_segmentation_mask.pkl'), 'rb') as f:\n",
    "    face_segmentation_mask = pickle.load(f)\n",
    "mask_annotation = face_segmentation_mask['mask_annotation']\n",
    "\n",
    "# get color definition from mask annotation\n",
    "colours = np.stack(list(face_segmentation_mask['rgb_index2color'].values()))    \n",
    "rgb_index2color = face_segmentation_mask['rgb_index2color']"
   ]
  },
  {
   "cell_type": "code",
   "execution_count": 3,
   "metadata": {},
   "outputs": [],
   "source": [
    "m_face_tri = loadmat('Model_face_tri.mat')\n",
    "tri = deepcopy(m_face_tri['tri'] - 1).T\n",
    "\n",
    "image_file = 'example_image_02.jpg'\n",
    "image = cv2.imread(image_file)\n",
    "canvas_height, canvas_width, n_channel = image.shape\n",
    "\n",
    "result_file = 'example_image_02.pkl'\n",
    "with open(result_file, 'rb') as f:\n",
    "    data = pickle.load(f, encoding='latin1')"
   ]
  },
  {
   "cell_type": "code",
   "execution_count": 13,
   "metadata": {},
   "outputs": [],
   "source": [
    "# extract parameters from the 3ddfa results\n",
    "yaw, pitch, roll = data['face_pose']['yaw'], data['face_pose']['pitch'], data['face_pose']['roll']\n",
    "vertex = data['vertex']\n",
    "n_vertex = vertex.shape[1]\n",
    "fR, T, roi_box = data['camera_transform']['fR'], data['camera_transform']['T'], data['roi_box']\n",
    "\n",
    "rad = -0.9\n",
    "# fR = fR.dot(np.array([[np.cos(rad), -np.sin(rad), 0], [np.sin(rad), np.cos(rad), 0], [0,0,1]]))\n",
    "fR = fR.dot(np.array([[np.cos(rad), 0, np.sin(rad)], [0,1,0], [-np.sin(rad), 0, np.cos(rad)]]))\n",
    "\n",
    "vertex_projected = ProjectShape(vertex, fR, T, roi_box)\n",
    "\n",
    "im = Image.init_from_channels_at_back(image[:,:,::-1])\n",
    "im.landmarks['vertex'] = PointCloud(vertex_projected.T[:,:2][:,::-1])\n",
    "# im.view_landmarks(figure_size=(30,30), marker_size=1)"
   ]
  },
  {
   "cell_type": "code",
   "execution_count": 5,
   "metadata": {},
   "outputs": [],
   "source": [
    "vertex_scaled = vertex_projected.T[:,:2]\n",
    "# the image coordinate system is a bit different from us.\n",
    "# the origin of an image is indeed (0, image_height)\n",
    "vertex_scaled[:, 1] = canvas_height-vertex_scaled[:, 1]\n",
    "vertex_scaled = vertex_scaled * 2. / [canvas_width, canvas_height] - 1.\n",
    "tf_vertices = tf.concat([vertex_scaled, tf.zeros([n_vertex, 1]), tf.ones([n_vertex, 1])], axis=1)\n",
    "\n",
    "tf_tri = tf.constant(tri, dtype=tf.int32)\n",
    "\n",
    "# segmentation mask in color\n",
    "vertex_colors = np.ones((n_vertex,n_channel))\n",
    "for key in mask_annotation:\n",
    "    if mask_annotation[key]['part_name'] not in ['left_backhead_patch', 'right_backhead_patch']:\n",
    "        vertex_colors[mask_annotation[key]['v_index']] = rgb_index2color[key]/255.0\n",
    "vertex_colors = tf.constant(vertex_colors, dtype=tf.float32)\n",
    "\n",
    "# bg = tf.constant(image.astype(np.float32)/255.0)\n",
    "# bg = tf.zeros_like(image, dtype=tf.float32)\n",
    "bg = tf.zeros((canvas_height, canvas_width, vertex_colors.shape[1]), dtype=tf.float32)\n",
    "\n",
    "pixels = dirt.rasterise(\n",
    "            vertices=tf_vertices,\n",
    "            faces=tf_tri,\n",
    "            vertex_colors=vertex_colors,\n",
    "            background=bg,\n",
    "            height=canvas_height, width=canvas_width, channels=n_channel\n",
    "         )\n",
    "\n",
    "with tf.Session() as sess:\n",
    "    rendered_image = sess.run([pixels])\n",
    "    rendered_image = rendered_image[0]"
   ]
  },
  {
   "cell_type": "code",
   "execution_count": 14,
   "metadata": {},
   "outputs": [
    {
     "data": {
      "text/plain": [
       "(53215, 2)"
      ]
     },
     "execution_count": 14,
     "metadata": {},
     "output_type": "execute_result"
    }
   ],
   "source": [
    "vertex_scaled = vertex_projected.T[:,:2]\n",
    "vertex_scaled.shape"
   ]
  },
  {
   "cell_type": "code",
   "execution_count": 12,
   "metadata": {},
   "outputs": [
    {
     "name": "stdout",
     "output_type": "stream",
     "text": [
      "[array([[1., 0., 0.],\n",
      "       [1., 0., 0.],\n",
      "       [1., 0., 0.],\n",
      "       ...,\n",
      "       [0., 0., 1.],\n",
      "       [0., 0., 1.],\n",
      "       [0., 0., 1.]], dtype=float32)]\n"
     ]
    }
   ],
   "source": [
    "with tf.Session() as sess:\n",
    "    tmp = sess.run([vertex_colors])\n",
    "\n",
    "print(tmp)"
   ]
  },
  {
   "cell_type": "code",
   "execution_count": 6,
   "metadata": {},
   "outputs": [
    {
     "data": {
      "text/plain": [
       "<menpo.visualize.viewmatplotlib.MatplotlibImageViewer2d at 0x7fa26b98ac88>"
      ]
     },
     "execution_count": 6,
     "metadata": {},
     "output_type": "execute_result"
    },
    {
     "data": {
      "image/png": "[encoded data removed]",
      "text/plain": [
       "<matplotlib.figure.Figure at 0x7fa26b98a898>"
      ]
     },
     "metadata": {},
     "output_type": "display_data"
    }
   ],
   "source": [
    "%matplotlib inline\n",
    "Image.init_from_channels_at_back(rendered_image).view()"
   ]
  },
  {
   "cell_type": "code",
   "execution_count": 11,
   "metadata": {},
   "outputs": [],
   "source": [
    "vertex_scaled = vertex_projected.T[:,:2]\n",
    "# the image coordinate system is a bit different from us.\n",
    "# the origin of an image is indeed (0, image_height)\n",
    "vertex_scaled[:, 1] = canvas_height-vertex_scaled[:, 1]\n",
    "vertex_scaled = vertex_scaled * 2. / [canvas_width, canvas_height] - 1.\n",
    "tf_vertices = tf.concat([vertex_scaled, tf.zeros([n_vertex, 1]), tf.ones([n_vertex, 1])], axis=1)\n",
    "\n",
    "tf_tri = tf.constant(tri, dtype=tf.int32)\n",
    "\n",
    "# segmentation mask in color\n",
    "vertex_colors = np.ones((n_vertex,n_channel))\n",
    "for key in mask_annotation:\n",
    "    if mask_annotation[key]['part_name'] not in ['left_backhead_patch', 'right_backhead_patch']:\n",
    "        vertex_colors[mask_annotation[key]['v_index']] = rgb_index2color[key]/255.0\n",
    "vertex_colors = tf.constant(vertex_colors, dtype=tf.float32)\n",
    "\n",
    "# bg = tf.constant(image.astype(np.float32)/255.0)\n",
    "# bg = tf.zeros_like(image, dtype=tf.float32)\n",
    "bg = tf.zeros((canvas_height, canvas_width, vertex_colors.shape[1]), dtype=tf.float32)\n",
    "\n",
    "pixels = dirt.rasterise(\n",
    "            vertices=tf_vertices,\n",
    "            faces=tf_tri,\n",
    "            vertex_colors=vertex_colors,\n",
    "            background=bg,\n",
    "            height=canvas_height, width=canvas_width, channels=n_channel\n",
    "         )\n",
    "\n",
    "with tf.Session() as sess:\n",
    "    rendered_image = sess.run([pixels])\n",
    "    rendered_image = rendered_image[0]"
   ]
  },
  {
   "cell_type": "code",
   "execution_count": null,
   "metadata": {},
   "outputs": [],
   "source": [
    "dirt.rasterise_batch()"
   ]
  },
  {
   "cell_type": "code",
   "execution_count": 12,
   "metadata": {},
   "outputs": [
    {
     "data": {
      "text/plain": [
       "<menpo.visualize.viewmatplotlib.MatplotlibImageViewer2d at 0x7faf780f00f0>"
      ]
     },
     "execution_count": 12,
     "metadata": {},
     "output_type": "execute_result"
    },
    {
     "data": {
      "image/png": "[encoded data removed]",
      "text/plain": [
       "<matplotlib.figure.Figure at 0x7faf780f0400>"
      ]
     },
     "metadata": {},
     "output_type": "display_data"
    }
   ],
   "source": [
    "%matplotlib inline\n",
    "Image.init_from_channels_at_back(rendered_image).view()"
   ]
  },
  {
   "cell_type": "code",
   "execution_count": null,
   "metadata": {},
   "outputs": [],
   "source": []
  }
 ],
 "metadata": {
  "kernelspec": {
   "display_name": "Python 3",
   "language": "python",
   "name": "python3"
  },
  "language_info": {
   "codemirror_mode": {
    "name": "ipython",
    "version": 3
   },
   "file_extension": ".py",
   "mimetype": "text/x-python",
   "name": "python",
   "nbconvert_exporter": "python",
   "pygments_lexer": "ipython3",
   "version": "3.5.6"
  }
 },
 "nbformat": 4,
 "nbformat_minor": 2
}
